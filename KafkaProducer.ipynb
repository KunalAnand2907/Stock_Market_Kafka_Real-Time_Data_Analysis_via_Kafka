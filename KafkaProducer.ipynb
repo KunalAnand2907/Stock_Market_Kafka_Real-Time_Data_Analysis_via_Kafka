{
 "cells": [
  {
   "cell_type": "code",
   "execution_count": 1,
   "id": "81e7ec45-9700-46f3-b421-e0a2f822d290",
   "metadata": {},
   "outputs": [
    {
     "name": "stdout",
     "output_type": "stream",
     "text": [
      "Collecting kafka-python\n",
      "  Downloading kafka_python-2.0.2-py2.py3-none-any.whl.metadata (7.8 kB)\n",
      "Downloading kafka_python-2.0.2-py2.py3-none-any.whl (246 kB)\n",
      "\u001b[2K   \u001b[90m━━━━━━━━━━━━━━━━━━━━━━━━━━━━━━━━━━━━━━━━\u001b[0m \u001b[32m246.5/246.5 kB\u001b[0m \u001b[31m5.7 MB/s\u001b[0m eta \u001b[36m0:00:00\u001b[0m00:01\u001b[0m\n",
      "\u001b[?25hInstalling collected packages: kafka-python\n",
      "Successfully installed kafka-python-2.0.2\n"
     ]
    }
   ],
   "source": [
    "!pip install kafka-python"
   ]
  },
  {
   "cell_type": "code",
   "execution_count": 8,
   "id": "e4568456-8e4b-4dde-b497-176bf51f579c",
   "metadata": {},
   "outputs": [],
   "source": [
    "# Importing Essential libraries\n",
    "import pandas as pd\n",
    "from kafka import KafkaProducer\n",
    "from time import sleep\n",
    "from json import dumps\n",
    "import json"
   ]
  },
  {
   "cell_type": "code",
   "execution_count": null,
   "id": "27a016d1",
   "metadata": {},
   "outputs": [],
   "source": [
    "# Starting Producer - bootstrap_servers: Public Ip & Port No, value_serializer: Json Format with utf encoding\n",
    "producer = KafkaProducer(bootstrap_servers=['13.201.83.68:9092'], #change public ip here - Kafka Server/instance\n",
    "                         value_serializer=lambda x: # Json Format Value encoded in Binary Form\n",
    "                         dumps(x).encode('utf-8')) # Add On - Key Serializer\n",
    "\n",
    "# Can set more Properties in Kafka Producer Function - to securely conect client (Producers) to Kafka Cluster"
   ]
  },
  {
   "cell_type": "code",
   "execution_count": 3,
   "id": "0602ef97-5387-4c1f-b979-a46f052d98b0",
   "metadata": {},
   "outputs": [
    {
     "data": {
      "text/plain": [
       "<kafka.producer.future.FutureRecordMetadata at 0x116e9a750>"
      ]
     },
     "execution_count": 3,
     "metadata": {},
     "output_type": "execute_result"
    }
   ],
   "source": [
    "# Sending data in json (k:v) format and on our Consumer script/terminal we can see the real Time Messages entered in the value\n",
    "producer.send('Demo_Test',value=\"{'First':'Message'}\")"
   ]
  },
  {
   "cell_type": "code",
   "execution_count": 43,
   "id": "f361e396-1e60-4118-a139-d8c7b3b70e0c",
   "metadata": {},
   "outputs": [
    {
     "data": {
      "text/plain": [
       "<kafka.producer.future.FutureRecordMetadata at 0x15f82e7d0>"
      ]
     },
     "execution_count": 43,
     "metadata": {},
     "output_type": "execute_result"
    }
   ],
   "source": [
    "producer.send('Demo_Test',value=\"{'Kunal':'Anand'}\")\n",
    "producer.send('Demo_Test',value=\"{'Hi':'There!'}\")"
   ]
  },
  {
   "cell_type": "code",
   "execution_count": 5,
   "id": "28d4151c-2cb3-4a7a-b421-fee926c01504",
   "metadata": {},
   "outputs": [],
   "source": [
    "data = pd.read_csv(r'indexProcessed.csv')"
   ]
  },
  {
   "cell_type": "code",
   "execution_count": 6,
   "id": "25885789-291c-4e0a-83ca-53e4f77be05c",
   "metadata": {},
   "outputs": [
    {
     "data": {
      "text/html": [
       "<div>\n",
       "<style scoped>\n",
       "    .dataframe tbody tr th:only-of-type {\n",
       "        vertical-align: middle;\n",
       "    }\n",
       "\n",
       "    .dataframe tbody tr th {\n",
       "        vertical-align: top;\n",
       "    }\n",
       "\n",
       "    .dataframe thead th {\n",
       "        text-align: right;\n",
       "    }\n",
       "</style>\n",
       "<table border=\"1\" class=\"dataframe\">\n",
       "  <thead>\n",
       "    <tr style=\"text-align: right;\">\n",
       "      <th></th>\n",
       "      <th>Index</th>\n",
       "      <th>Date</th>\n",
       "      <th>Open</th>\n",
       "      <th>High</th>\n",
       "      <th>Low</th>\n",
       "      <th>Close</th>\n",
       "      <th>Adj Close</th>\n",
       "      <th>Volume</th>\n",
       "      <th>CloseUSD</th>\n",
       "    </tr>\n",
       "  </thead>\n",
       "  <tbody>\n",
       "    <tr>\n",
       "      <th>0</th>\n",
       "      <td>HSI</td>\n",
       "      <td>1986-12-31</td>\n",
       "      <td>2568.300049</td>\n",
       "      <td>2568.300049</td>\n",
       "      <td>2568.300049</td>\n",
       "      <td>2568.300049</td>\n",
       "      <td>2568.300049</td>\n",
       "      <td>0.0</td>\n",
       "      <td>333.879006</td>\n",
       "    </tr>\n",
       "    <tr>\n",
       "      <th>1</th>\n",
       "      <td>HSI</td>\n",
       "      <td>1987-01-02</td>\n",
       "      <td>2540.100098</td>\n",
       "      <td>2540.100098</td>\n",
       "      <td>2540.100098</td>\n",
       "      <td>2540.100098</td>\n",
       "      <td>2540.100098</td>\n",
       "      <td>0.0</td>\n",
       "      <td>330.213013</td>\n",
       "    </tr>\n",
       "    <tr>\n",
       "      <th>2</th>\n",
       "      <td>HSI</td>\n",
       "      <td>1987-01-05</td>\n",
       "      <td>2552.399902</td>\n",
       "      <td>2552.399902</td>\n",
       "      <td>2552.399902</td>\n",
       "      <td>2552.399902</td>\n",
       "      <td>2552.399902</td>\n",
       "      <td>0.0</td>\n",
       "      <td>331.811987</td>\n",
       "    </tr>\n",
       "    <tr>\n",
       "      <th>3</th>\n",
       "      <td>HSI</td>\n",
       "      <td>1987-01-06</td>\n",
       "      <td>2583.899902</td>\n",
       "      <td>2583.899902</td>\n",
       "      <td>2583.899902</td>\n",
       "      <td>2583.899902</td>\n",
       "      <td>2583.899902</td>\n",
       "      <td>0.0</td>\n",
       "      <td>335.906987</td>\n",
       "    </tr>\n",
       "    <tr>\n",
       "      <th>4</th>\n",
       "      <td>HSI</td>\n",
       "      <td>1987-01-07</td>\n",
       "      <td>2607.100098</td>\n",
       "      <td>2607.100098</td>\n",
       "      <td>2607.100098</td>\n",
       "      <td>2607.100098</td>\n",
       "      <td>2607.100098</td>\n",
       "      <td>0.0</td>\n",
       "      <td>338.923013</td>\n",
       "    </tr>\n",
       "  </tbody>\n",
       "</table>\n",
       "</div>"
      ],
      "text/plain": [
       "  Index        Date         Open         High          Low        Close  \\\n",
       "0   HSI  1986-12-31  2568.300049  2568.300049  2568.300049  2568.300049   \n",
       "1   HSI  1987-01-02  2540.100098  2540.100098  2540.100098  2540.100098   \n",
       "2   HSI  1987-01-05  2552.399902  2552.399902  2552.399902  2552.399902   \n",
       "3   HSI  1987-01-06  2583.899902  2583.899902  2583.899902  2583.899902   \n",
       "4   HSI  1987-01-07  2607.100098  2607.100098  2607.100098  2607.100098   \n",
       "\n",
       "     Adj Close  Volume    CloseUSD  \n",
       "0  2568.300049     0.0  333.879006  \n",
       "1  2540.100098     0.0  330.213013  \n",
       "2  2552.399902     0.0  331.811987  \n",
       "3  2583.899902     0.0  335.906987  \n",
       "4  2607.100098     0.0  338.923013  "
      ]
     },
     "execution_count": 6,
     "metadata": {},
     "output_type": "execute_result"
    }
   ],
   "source": [
    "data.head()"
   ]
  },
  {
   "cell_type": "code",
   "execution_count": 6,
   "id": "a741e665-75b2-4227-8bb4-3ea730a3e4ef",
   "metadata": {},
   "outputs": [
    {
     "name": "stdout",
     "output_type": "stream",
     "text": [
      "<class 'pandas.core.frame.DataFrame'>\n",
      "RangeIndex: 104224 entries, 0 to 104223\n",
      "Data columns (total 9 columns):\n",
      " #   Column     Non-Null Count   Dtype  \n",
      "---  ------     --------------   -----  \n",
      " 0   Index      104224 non-null  object \n",
      " 1   Date       104224 non-null  object \n",
      " 2   Open       104224 non-null  float64\n",
      " 3   High       104224 non-null  float64\n",
      " 4   Low        104224 non-null  float64\n",
      " 5   Close      104224 non-null  float64\n",
      " 6   Adj Close  104224 non-null  float64\n",
      " 7   Volume     104224 non-null  float64\n",
      " 8   CloseUSD   104224 non-null  float64\n",
      "dtypes: float64(7), object(2)\n",
      "memory usage: 7.2+ MB\n"
     ]
    }
   ],
   "source": [
    "data.info()"
   ]
  },
  {
   "cell_type": "code",
   "execution_count": null,
   "id": "39e1e7a6",
   "metadata": {},
   "outputs": [],
   "source": [
    "# Starting Producer - bootstrap_servers: Public Ip & Port No, value_serializer: Json Format with utf encoding\n",
    "producer = KafkaProducer(bootstrap_servers=['13.201.83.68:9092'], #change public ip here - Kafka Server/instance\n",
    "                         value_serializer=lambda x: # Json Format Value encoded in Binary Form\n",
    "                         dumps(x).encode('utf-8')) # Add On - Key Serializer\n",
    "\n",
    "# Can set more Properties in Kafka Producer Function - to securely conect client (Producers) to Kafka Cluster"
   ]
  },
  {
   "cell_type": "code",
   "execution_count": 30,
   "id": "9cfab7b3-ae6d-4a79-a28c-a1df89ad26c8",
   "metadata": {},
   "outputs": [
    {
     "data": {
      "text/plain": [
       "[{'Index': 'IXIC',\n",
       "  'Date': '2011-10-26',\n",
       "  'Open': 2660.419922,\n",
       "  'High': 2666.290039,\n",
       "  'Low': 2598.73999,\n",
       "  'Close': 2650.669922,\n",
       "  'Adj Close': 2650.669922,\n",
       "  'Volume': 2118650000.0,\n",
       "  'CloseUSD': 2650.669922}]"
      ]
     },
     "execution_count": 30,
     "metadata": {},
     "output_type": "execute_result"
    }
   ],
   "source": [
    "# All the rows are in the form of dict and nested in list\n",
    "data.sample(1).to_dict(orient='records') # .sample - takes the random record"
   ]
  },
  {
   "cell_type": "code",
   "execution_count": null,
   "id": "fd1dfb8d",
   "metadata": {},
   "outputs": [],
   "source": [
    "for i in range(3):\n",
    "    dict_stock = data.sample(3).to_dict(orient='records')[i]\n",
    "    producer.send('Demo_Test',value = dict_stock)"
   ]
  },
  {
   "cell_type": "code",
   "execution_count": 47,
   "id": "c64608dd-ee03-4386-baa7-bfe89110a5a5",
   "metadata": {},
   "outputs": [],
   "source": [
    "producer.flush() # Send data Syncronously - tell the producer to send all data & block until done - not send data parallel - send one data at a time an dthen the next"
   ]
  },
  {
   "cell_type": "code",
   "execution_count": null,
   "id": "451ac880-2e07-43cc-95d3-9841320f759d",
   "metadata": {},
   "outputs": [],
   "source": [
    "producer.poll(0) #"
   ]
  },
  {
   "cell_type": "code",
   "execution_count": null,
   "id": "4c24f76f-45e7-4707-9d17-99bb61fdc330",
   "metadata": {},
   "outputs": [],
   "source": [
    "# Difference btw flush & poll(0) in producer Kafka"
   ]
  }
 ],
 "metadata": {
  "kernelspec": {
   "display_name": "Python 3",
   "language": "python",
   "name": "python3"
  },
  "language_info": {
   "codemirror_mode": {
    "name": "ipython",
    "version": 3
   },
   "file_extension": ".py",
   "mimetype": "text/x-python",
   "name": "python",
   "nbconvert_exporter": "python",
   "pygments_lexer": "ipython3",
   "version": "3.10.7"
  }
 },
 "nbformat": 4,
 "nbformat_minor": 5
}
